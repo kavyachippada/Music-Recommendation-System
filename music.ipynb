{
 "cells": [
  {
   "cell_type": "code",
   "execution_count": 1,
   "id": "4ee6f0f1",
   "metadata": {},
   "outputs": [],
   "source": [
    "import pandas as pd"
   ]
  },
  {
   "cell_type": "code",
   "execution_count": 2,
   "id": "861da4a8",
   "metadata": {},
   "outputs": [],
   "source": [
    "df=pd.read_csv(\"D:\\Downloads\\spotify_millsongdata.csv\\spotify_millsongdata.csv\")"
   ]
  },
  {
   "cell_type": "code",
   "execution_count": 3,
   "id": "9c994d9a",
   "metadata": {
    "scrolled": true
   },
   "outputs": [
    {
     "data": {
      "text/html": [
       "<div>\n",
       "<style scoped>\n",
       "    .dataframe tbody tr th:only-of-type {\n",
       "        vertical-align: middle;\n",
       "    }\n",
       "\n",
       "    .dataframe tbody tr th {\n",
       "        vertical-align: top;\n",
       "    }\n",
       "\n",
       "    .dataframe thead th {\n",
       "        text-align: right;\n",
       "    }\n",
       "</style>\n",
       "<table border=\"1\" class=\"dataframe\">\n",
       "  <thead>\n",
       "    <tr style=\"text-align: right;\">\n",
       "      <th></th>\n",
       "      <th>artist</th>\n",
       "      <th>song</th>\n",
       "      <th>link</th>\n",
       "      <th>text</th>\n",
       "    </tr>\n",
       "  </thead>\n",
       "  <tbody>\n",
       "    <tr>\n",
       "      <th>0</th>\n",
       "      <td>ABBA</td>\n",
       "      <td>Ahe's My Kind Of Girl</td>\n",
       "      <td>/a/abba/ahes+my+kind+of+girl_20598417.html</td>\n",
       "      <td>Look at her face, it's a wonderful face  \\r\\nA...</td>\n",
       "    </tr>\n",
       "    <tr>\n",
       "      <th>1</th>\n",
       "      <td>ABBA</td>\n",
       "      <td>Andante, Andante</td>\n",
       "      <td>/a/abba/andante+andante_20002708.html</td>\n",
       "      <td>Take it easy with me, please  \\r\\nTouch me gen...</td>\n",
       "    </tr>\n",
       "    <tr>\n",
       "      <th>2</th>\n",
       "      <td>ABBA</td>\n",
       "      <td>As Good As New</td>\n",
       "      <td>/a/abba/as+good+as+new_20003033.html</td>\n",
       "      <td>I'll never know why I had to go  \\r\\nWhy I had...</td>\n",
       "    </tr>\n",
       "    <tr>\n",
       "      <th>3</th>\n",
       "      <td>ABBA</td>\n",
       "      <td>Bang</td>\n",
       "      <td>/a/abba/bang_20598415.html</td>\n",
       "      <td>Making somebody happy is a question of give an...</td>\n",
       "    </tr>\n",
       "    <tr>\n",
       "      <th>4</th>\n",
       "      <td>ABBA</td>\n",
       "      <td>Bang-A-Boomerang</td>\n",
       "      <td>/a/abba/bang+a+boomerang_20002668.html</td>\n",
       "      <td>Making somebody happy is a question of give an...</td>\n",
       "    </tr>\n",
       "  </tbody>\n",
       "</table>\n",
       "</div>"
      ],
      "text/plain": [
       "  artist                   song                                        link  \\\n",
       "0   ABBA  Ahe's My Kind Of Girl  /a/abba/ahes+my+kind+of+girl_20598417.html   \n",
       "1   ABBA       Andante, Andante       /a/abba/andante+andante_20002708.html   \n",
       "2   ABBA         As Good As New        /a/abba/as+good+as+new_20003033.html   \n",
       "3   ABBA                   Bang                  /a/abba/bang_20598415.html   \n",
       "4   ABBA       Bang-A-Boomerang      /a/abba/bang+a+boomerang_20002668.html   \n",
       "\n",
       "                                                text  \n",
       "0  Look at her face, it's a wonderful face  \\r\\nA...  \n",
       "1  Take it easy with me, please  \\r\\nTouch me gen...  \n",
       "2  I'll never know why I had to go  \\r\\nWhy I had...  \n",
       "3  Making somebody happy is a question of give an...  \n",
       "4  Making somebody happy is a question of give an...  "
      ]
     },
     "execution_count": 3,
     "metadata": {},
     "output_type": "execute_result"
    }
   ],
   "source": [
    "df.head(5)"
   ]
  },
  {
   "cell_type": "code",
   "execution_count": 4,
   "id": "4ac66fbd",
   "metadata": {},
   "outputs": [
    {
     "data": {
      "text/html": [
       "<div>\n",
       "<style scoped>\n",
       "    .dataframe tbody tr th:only-of-type {\n",
       "        vertical-align: middle;\n",
       "    }\n",
       "\n",
       "    .dataframe tbody tr th {\n",
       "        vertical-align: top;\n",
       "    }\n",
       "\n",
       "    .dataframe thead th {\n",
       "        text-align: right;\n",
       "    }\n",
       "</style>\n",
       "<table border=\"1\" class=\"dataframe\">\n",
       "  <thead>\n",
       "    <tr style=\"text-align: right;\">\n",
       "      <th></th>\n",
       "      <th>artist</th>\n",
       "      <th>song</th>\n",
       "      <th>link</th>\n",
       "      <th>text</th>\n",
       "    </tr>\n",
       "  </thead>\n",
       "  <tbody>\n",
       "    <tr>\n",
       "      <th>57645</th>\n",
       "      <td>Ziggy Marley</td>\n",
       "      <td>Good Old Days</td>\n",
       "      <td>/z/ziggy+marley/good+old+days_10198588.html</td>\n",
       "      <td>Irie days come on play  \\r\\nLet the angels fly...</td>\n",
       "    </tr>\n",
       "    <tr>\n",
       "      <th>57646</th>\n",
       "      <td>Ziggy Marley</td>\n",
       "      <td>Hand To Mouth</td>\n",
       "      <td>/z/ziggy+marley/hand+to+mouth_20531167.html</td>\n",
       "      <td>Power to the workers  \\r\\nMore power  \\r\\nPowe...</td>\n",
       "    </tr>\n",
       "    <tr>\n",
       "      <th>57647</th>\n",
       "      <td>Zwan</td>\n",
       "      <td>Come With Me</td>\n",
       "      <td>/z/zwan/come+with+me_20148981.html</td>\n",
       "      <td>all you need  \\r\\nis something i'll believe  \\...</td>\n",
       "    </tr>\n",
       "    <tr>\n",
       "      <th>57648</th>\n",
       "      <td>Zwan</td>\n",
       "      <td>Desire</td>\n",
       "      <td>/z/zwan/desire_20148986.html</td>\n",
       "      <td>northern star  \\r\\nam i frightened  \\r\\nwhere ...</td>\n",
       "    </tr>\n",
       "    <tr>\n",
       "      <th>57649</th>\n",
       "      <td>Zwan</td>\n",
       "      <td>Heartsong</td>\n",
       "      <td>/z/zwan/heartsong_20148991.html</td>\n",
       "      <td>come in  \\r\\nmake yourself at home  \\r\\ni'm a ...</td>\n",
       "    </tr>\n",
       "  </tbody>\n",
       "</table>\n",
       "</div>"
      ],
      "text/plain": [
       "             artist           song  \\\n",
       "57645  Ziggy Marley  Good Old Days   \n",
       "57646  Ziggy Marley  Hand To Mouth   \n",
       "57647          Zwan   Come With Me   \n",
       "57648          Zwan         Desire   \n",
       "57649          Zwan      Heartsong   \n",
       "\n",
       "                                              link  \\\n",
       "57645  /z/ziggy+marley/good+old+days_10198588.html   \n",
       "57646  /z/ziggy+marley/hand+to+mouth_20531167.html   \n",
       "57647           /z/zwan/come+with+me_20148981.html   \n",
       "57648                 /z/zwan/desire_20148986.html   \n",
       "57649              /z/zwan/heartsong_20148991.html   \n",
       "\n",
       "                                                    text  \n",
       "57645  Irie days come on play  \\r\\nLet the angels fly...  \n",
       "57646  Power to the workers  \\r\\nMore power  \\r\\nPowe...  \n",
       "57647  all you need  \\r\\nis something i'll believe  \\...  \n",
       "57648  northern star  \\r\\nam i frightened  \\r\\nwhere ...  \n",
       "57649  come in  \\r\\nmake yourself at home  \\r\\ni'm a ...  "
      ]
     },
     "execution_count": 4,
     "metadata": {},
     "output_type": "execute_result"
    }
   ],
   "source": [
    "df.tail(5)"
   ]
  },
  {
   "cell_type": "code",
   "execution_count": 5,
   "id": "b7b41903",
   "metadata": {},
   "outputs": [
    {
     "data": {
      "text/plain": [
       "(57650, 4)"
      ]
     },
     "execution_count": 5,
     "metadata": {},
     "output_type": "execute_result"
    }
   ],
   "source": [
    "df.shape\n"
   ]
  },
  {
   "cell_type": "code",
   "execution_count": 6,
   "id": "1f7c71c2",
   "metadata": {},
   "outputs": [
    {
     "data": {
      "text/plain": [
       "artist    0\n",
       "song      0\n",
       "link      0\n",
       "text      0\n",
       "dtype: int64"
      ]
     },
     "execution_count": 6,
     "metadata": {},
     "output_type": "execute_result"
    }
   ],
   "source": [
    "df.isnull().sum()"
   ]
  },
  {
   "cell_type": "code",
   "execution_count": 7,
   "id": "1f53af19",
   "metadata": {},
   "outputs": [],
   "source": [
    "df=df.sample(5000).drop('link',axis=1).reset_index(drop=True)"
   ]
  },
  {
   "cell_type": "code",
   "execution_count": 8,
   "id": "421d169e",
   "metadata": {},
   "outputs": [
    {
     "data": {
      "text/html": [
       "<div>\n",
       "<style scoped>\n",
       "    .dataframe tbody tr th:only-of-type {\n",
       "        vertical-align: middle;\n",
       "    }\n",
       "\n",
       "    .dataframe tbody tr th {\n",
       "        vertical-align: top;\n",
       "    }\n",
       "\n",
       "    .dataframe thead th {\n",
       "        text-align: right;\n",
       "    }\n",
       "</style>\n",
       "<table border=\"1\" class=\"dataframe\">\n",
       "  <thead>\n",
       "    <tr style=\"text-align: right;\">\n",
       "      <th></th>\n",
       "      <th>artist</th>\n",
       "      <th>song</th>\n",
       "      <th>text</th>\n",
       "    </tr>\n",
       "  </thead>\n",
       "  <tbody>\n",
       "    <tr>\n",
       "      <th>0</th>\n",
       "      <td>Blur</td>\n",
       "      <td>Uncle Love</td>\n",
       "      <td>Uncle Love just got a message from God  \\r\\nTh...</td>\n",
       "    </tr>\n",
       "    <tr>\n",
       "      <th>1</th>\n",
       "      <td>Robbie Williams</td>\n",
       "      <td>Mr. Bojangles</td>\n",
       "      <td>I knew a man Bojangles  \\r\\nAnd he'd dance for...</td>\n",
       "    </tr>\n",
       "    <tr>\n",
       "      <th>2</th>\n",
       "      <td>Justin Timberlake</td>\n",
       "      <td>Breath</td>\n",
       "      <td>[Chorus:] (Nelly Furtado)  \\r\\nI'm alive I can...</td>\n",
       "    </tr>\n",
       "    <tr>\n",
       "      <th>3</th>\n",
       "      <td>John Martyn</td>\n",
       "      <td>Can't Turn Back The Years</td>\n",
       "      <td>\\r\\nNever gonna give it up never gonnna it u...</td>\n",
       "    </tr>\n",
       "    <tr>\n",
       "      <th>4</th>\n",
       "      <td>Weird Al Yankovic</td>\n",
       "      <td>Buy Me A Condo</td>\n",
       "      <td>Gonna buy me a condo  \\r\\nGonna buy me a Cuisi...</td>\n",
       "    </tr>\n",
       "    <tr>\n",
       "      <th>5</th>\n",
       "      <td>Imperials</td>\n",
       "      <td>Whenever I Speak His Name</td>\n",
       "      <td>All around there's hurried confusion  \\r\\nThe ...</td>\n",
       "    </tr>\n",
       "    <tr>\n",
       "      <th>6</th>\n",
       "      <td>Rihanna</td>\n",
       "      <td>Te Amo</td>\n",
       "      <td>Te amo, te amo, she say's to me.  \\r\\nI hear t...</td>\n",
       "    </tr>\n",
       "    <tr>\n",
       "      <th>7</th>\n",
       "      <td>Doobie Brothers</td>\n",
       "      <td>Can't Stand To Lose</td>\n",
       "      <td>If you can't stand to lose  \\r\\nDon't stand in...</td>\n",
       "    </tr>\n",
       "    <tr>\n",
       "      <th>8</th>\n",
       "      <td>Usher</td>\n",
       "      <td>Hottest Thing</td>\n",
       "      <td>I've been looking at you  \\r\\nTurning brothers...</td>\n",
       "    </tr>\n",
       "    <tr>\n",
       "      <th>9</th>\n",
       "      <td>Nightwish</td>\n",
       "      <td>Eva</td>\n",
       "      <td>6:30 winter morn  \\r\\nSnow keeps falling, sile...</td>\n",
       "    </tr>\n",
       "  </tbody>\n",
       "</table>\n",
       "</div>"
      ],
      "text/plain": [
       "              artist                       song  \\\n",
       "0               Blur                 Uncle Love   \n",
       "1    Robbie Williams              Mr. Bojangles   \n",
       "2  Justin Timberlake                     Breath   \n",
       "3        John Martyn  Can't Turn Back The Years   \n",
       "4  Weird Al Yankovic             Buy Me A Condo   \n",
       "5          Imperials  Whenever I Speak His Name   \n",
       "6            Rihanna                     Te Amo   \n",
       "7    Doobie Brothers        Can't Stand To Lose   \n",
       "8              Usher              Hottest Thing   \n",
       "9          Nightwish                        Eva   \n",
       "\n",
       "                                                text  \n",
       "0  Uncle Love just got a message from God  \\r\\nTh...  \n",
       "1  I knew a man Bojangles  \\r\\nAnd he'd dance for...  \n",
       "2  [Chorus:] (Nelly Furtado)  \\r\\nI'm alive I can...  \n",
       "3    \\r\\nNever gonna give it up never gonnna it u...  \n",
       "4  Gonna buy me a condo  \\r\\nGonna buy me a Cuisi...  \n",
       "5  All around there's hurried confusion  \\r\\nThe ...  \n",
       "6  Te amo, te amo, she say's to me.  \\r\\nI hear t...  \n",
       "7  If you can't stand to lose  \\r\\nDon't stand in...  \n",
       "8  I've been looking at you  \\r\\nTurning brothers...  \n",
       "9  6:30 winter morn  \\r\\nSnow keeps falling, sile...  "
      ]
     },
     "execution_count": 8,
     "metadata": {},
     "output_type": "execute_result"
    }
   ],
   "source": [
    "df.head(10)"
   ]
  },
  {
   "cell_type": "code",
   "execution_count": 9,
   "id": "a038e590",
   "metadata": {},
   "outputs": [
    {
     "data": {
      "text/plain": [
       "\"Uncle Love just got a message from God  \\r\\nThat you are driving him crazy  \\r\\nTomorrow he says the doctor comes  \\r\\nWith a drink to make him lazy  \\r\\n  \\r\\nDid you realize that Uncle Love's  \\r\\nGot an eight ball in his hand  \\r\\nEverything sticks to you like glue  \\r\\nBut it just makes you lazy  \\r\\n  \\r\\nYou should hear what they say  \\r\\nAbout you everyday  \\r\\nYou should hear what they say  \\r\\nUncle Love's going to get you  \\r\\n  \\r\\nUncle Love just got a message from God  \\r\\nThat you are driving him crazy  \\r\\nEverything sticks to you like glue  \\r\\nBut it just makes you lazy  \\r\\n  \\r\\nYou should hear what they say  \\r\\nAbout you everyday  \\r\\nYou should hear what they say  \\r\\nUncle Love's going to get you\\r\\n\\r\\n\""
      ]
     },
     "execution_count": 9,
     "metadata": {},
     "output_type": "execute_result"
    }
   ],
   "source": [
    "df['text'][0]"
   ]
  },
  {
   "cell_type": "code",
   "execution_count": 10,
   "id": "8d9e66b0",
   "metadata": {},
   "outputs": [
    {
     "data": {
      "text/plain": [
       "(5000, 3)"
      ]
     },
     "execution_count": 10,
     "metadata": {},
     "output_type": "execute_result"
    }
   ],
   "source": [
    "df.shape"
   ]
  },
  {
   "cell_type": "markdown",
   "id": "26b704d3",
   "metadata": {},
   "source": [
    "# Text cleaning/text preprocessing"
   ]
  },
  {
   "cell_type": "code",
   "execution_count": 11,
   "id": "65b90059",
   "metadata": {},
   "outputs": [],
   "source": [
    "df['text']=df['text'].str.lower().replace(r'^\\w\\s',' ').replace(r'\\n',' ',regex=True)"
   ]
  },
  {
   "cell_type": "code",
   "execution_count": 12,
   "id": "30ece950",
   "metadata": {},
   "outputs": [
    {
     "data": {
      "text/html": [
       "<div>\n",
       "<style scoped>\n",
       "    .dataframe tbody tr th:only-of-type {\n",
       "        vertical-align: middle;\n",
       "    }\n",
       "\n",
       "    .dataframe tbody tr th {\n",
       "        vertical-align: top;\n",
       "    }\n",
       "\n",
       "    .dataframe thead th {\n",
       "        text-align: right;\n",
       "    }\n",
       "</style>\n",
       "<table border=\"1\" class=\"dataframe\">\n",
       "  <thead>\n",
       "    <tr style=\"text-align: right;\">\n",
       "      <th></th>\n",
       "      <th>artist</th>\n",
       "      <th>song</th>\n",
       "      <th>text</th>\n",
       "    </tr>\n",
       "  </thead>\n",
       "  <tbody>\n",
       "    <tr>\n",
       "      <th>4995</th>\n",
       "      <td>Boney M.</td>\n",
       "      <td>Little Drummer Boy</td>\n",
       "      <td>come, they told me pa-rum pum pum pum  \\r our ...</td>\n",
       "    </tr>\n",
       "    <tr>\n",
       "      <th>4996</th>\n",
       "      <td>Matt Monro</td>\n",
       "      <td>Exodus</td>\n",
       "      <td>this land is mine, god gave this land to me  \\...</td>\n",
       "    </tr>\n",
       "    <tr>\n",
       "      <th>4997</th>\n",
       "      <td>Paul McCartney</td>\n",
       "      <td>Back In The Sunshine Again</td>\n",
       "      <td>here we are,  \\r back in the sunshine again  \\...</td>\n",
       "    </tr>\n",
       "    <tr>\n",
       "      <th>4998</th>\n",
       "      <td>Ozzy Osbourne</td>\n",
       "      <td>Pantomime</td>\n",
       "      <td>they feel they've raised her  \\r the new queen...</td>\n",
       "    </tr>\n",
       "    <tr>\n",
       "      <th>4999</th>\n",
       "      <td>John Mellencamp</td>\n",
       "      <td>Peppermint Twist</td>\n",
       "      <td>well they've got a new dance and it goes like ...</td>\n",
       "    </tr>\n",
       "  </tbody>\n",
       "</table>\n",
       "</div>"
      ],
      "text/plain": [
       "               artist                        song  \\\n",
       "4995         Boney M.          Little Drummer Boy   \n",
       "4996       Matt Monro                      Exodus   \n",
       "4997   Paul McCartney  Back In The Sunshine Again   \n",
       "4998    Ozzy Osbourne                   Pantomime   \n",
       "4999  John Mellencamp            Peppermint Twist   \n",
       "\n",
       "                                                   text  \n",
       "4995  come, they told me pa-rum pum pum pum  \\r our ...  \n",
       "4996  this land is mine, god gave this land to me  \\...  \n",
       "4997  here we are,  \\r back in the sunshine again  \\...  \n",
       "4998  they feel they've raised her  \\r the new queen...  \n",
       "4999  well they've got a new dance and it goes like ...  "
      ]
     },
     "execution_count": 12,
     "metadata": {},
     "output_type": "execute_result"
    }
   ],
   "source": [
    "df.tail(5)"
   ]
  },
  {
   "cell_type": "code",
   "execution_count": 13,
   "id": "db541fa8",
   "metadata": {},
   "outputs": [],
   "source": [
    "import nltk\n",
    "from nltk.stem.porter import PorterStemmer"
   ]
  },
  {
   "cell_type": "code",
   "execution_count": 14,
   "id": "ba7c3227",
   "metadata": {},
   "outputs": [],
   "source": [
    "stemmer=PorterStemmer()"
   ]
  },
  {
   "cell_type": "code",
   "execution_count": 15,
   "id": "a3449522",
   "metadata": {},
   "outputs": [],
   "source": [
    "def token(txt):\n",
    "    token=nltk.word_tokenize(txt)\n",
    "    a=[stemmer.stem(w) for w in token]\n",
    "    return \" \".join(a)"
   ]
  },
  {
   "cell_type": "code",
   "execution_count": 16,
   "id": "ebdb7469",
   "metadata": {},
   "outputs": [
    {
     "data": {
      "text/plain": [
       "'you are beauti , beauti'"
      ]
     },
     "execution_count": 16,
     "metadata": {},
     "output_type": "execute_result"
    }
   ],
   "source": [
    "token(\"you are beautiful, beauty\")"
   ]
  },
  {
   "cell_type": "code",
   "execution_count": 17,
   "id": "6c5f132e",
   "metadata": {},
   "outputs": [
    {
     "data": {
      "text/plain": [
       "0       uncl love just got a messag from god that you ...\n",
       "1       i knew a man bojangl and he 'd danc for you in...\n",
       "2       [ choru : ] ( nelli furtado ) i 'm aliv i can ...\n",
       "3       never gon na give it up never gonnna it up nev...\n",
       "4       gon na buy me a condo gon na buy me a cuisinar...\n",
       "                              ...                        \n",
       "4995    come , they told me pa-rum pum pum pum our new...\n",
       "4996    thi land is mine , god gave thi land to me thi...\n",
       "4997    here we are , back in the sunshin again no mor...\n",
       "4998    they feel they 've rais her the new queen of e...\n",
       "4999    well they 've got a new danc and it goe like t...\n",
       "Name: text, Length: 5000, dtype: object"
      ]
     },
     "execution_count": 17,
     "metadata": {},
     "output_type": "execute_result"
    }
   ],
   "source": [
    "df['text'].apply(lambda x: token(x))"
   ]
  },
  {
   "cell_type": "code",
   "execution_count": 18,
   "id": "abf4cd4f",
   "metadata": {},
   "outputs": [],
   "source": [
    "from sklearn.feature_extraction.text import TfidfVectorizer\n",
    "from sklearn.metrics.pairwise import cosine_similarity"
   ]
  },
  {
   "cell_type": "code",
   "execution_count": 19,
   "id": "494ad37c",
   "metadata": {},
   "outputs": [],
   "source": [
    "tfid=TfidfVectorizer(analyzer='word',stop_words='english')"
   ]
  },
  {
   "cell_type": "code",
   "execution_count": 20,
   "id": "f91d8a22",
   "metadata": {},
   "outputs": [],
   "source": [
    "matrix=tfid.fit_transform(df['text'])"
   ]
  },
  {
   "cell_type": "code",
   "execution_count": 21,
   "id": "6f267522",
   "metadata": {},
   "outputs": [
    {
     "data": {
      "text/plain": [
       "<5000x23906 sparse matrix of type '<class 'numpy.float64'>'\n",
       "\twith 271587 stored elements in Compressed Sparse Row format>"
      ]
     },
     "execution_count": 21,
     "metadata": {},
     "output_type": "execute_result"
    }
   ],
   "source": [
    "matrix"
   ]
  },
  {
   "cell_type": "code",
   "execution_count": 22,
   "id": "66fcf7de",
   "metadata": {},
   "outputs": [],
   "source": [
    "similer=cosine_similarity(matrix)"
   ]
  },
  {
   "cell_type": "code",
   "execution_count": 25,
   "id": "5a44dc9b",
   "metadata": {},
   "outputs": [
    {
     "data": {
      "text/plain": [
       "array([0.00565077, 1.        , 0.00246529, ..., 0.0172332 , 0.00186798,\n",
       "       0.03247878])"
      ]
     },
     "execution_count": 25,
     "metadata": {},
     "output_type": "execute_result"
    }
   ],
   "source": [
    "similer[1]"
   ]
  },
  {
   "cell_type": "code",
   "execution_count": 38,
   "id": "6a4c1b5c",
   "metadata": {},
   "outputs": [
    {
     "data": {
      "text/html": [
       "<div>\n",
       "<style scoped>\n",
       "    .dataframe tbody tr th:only-of-type {\n",
       "        vertical-align: middle;\n",
       "    }\n",
       "\n",
       "    .dataframe tbody tr th {\n",
       "        vertical-align: top;\n",
       "    }\n",
       "\n",
       "    .dataframe thead th {\n",
       "        text-align: right;\n",
       "    }\n",
       "</style>\n",
       "<table border=\"1\" class=\"dataframe\">\n",
       "  <thead>\n",
       "    <tr style=\"text-align: right;\">\n",
       "      <th></th>\n",
       "      <th>artist</th>\n",
       "      <th>song</th>\n",
       "      <th>text</th>\n",
       "    </tr>\n",
       "  </thead>\n",
       "  <tbody>\n",
       "    <tr>\n",
       "      <th>0</th>\n",
       "      <td>Blur</td>\n",
       "      <td>Uncle Love</td>\n",
       "      <td>uncle love just got a message from god  \\r tha...</td>\n",
       "    </tr>\n",
       "    <tr>\n",
       "      <th>1</th>\n",
       "      <td>Robbie Williams</td>\n",
       "      <td>Mr. Bojangles</td>\n",
       "      <td>i knew a man bojangles  \\r and he'd dance for ...</td>\n",
       "    </tr>\n",
       "    <tr>\n",
       "      <th>2</th>\n",
       "      <td>Justin Timberlake</td>\n",
       "      <td>Breath</td>\n",
       "      <td>[chorus:] (nelly furtado)  \\r i'm alive i can ...</td>\n",
       "    </tr>\n",
       "    <tr>\n",
       "      <th>3</th>\n",
       "      <td>John Martyn</td>\n",
       "      <td>Can't Turn Back The Years</td>\n",
       "      <td>\\r never gonna give it up never gonnna it up...</td>\n",
       "    </tr>\n",
       "    <tr>\n",
       "      <th>4</th>\n",
       "      <td>Weird Al Yankovic</td>\n",
       "      <td>Buy Me A Condo</td>\n",
       "      <td>gonna buy me a condo  \\r gonna buy me a cuisin...</td>\n",
       "    </tr>\n",
       "    <tr>\n",
       "      <th>...</th>\n",
       "      <td>...</td>\n",
       "      <td>...</td>\n",
       "      <td>...</td>\n",
       "    </tr>\n",
       "    <tr>\n",
       "      <th>4995</th>\n",
       "      <td>Boney M.</td>\n",
       "      <td>Little Drummer Boy</td>\n",
       "      <td>come, they told me pa-rum pum pum pum  \\r our ...</td>\n",
       "    </tr>\n",
       "    <tr>\n",
       "      <th>4996</th>\n",
       "      <td>Matt Monro</td>\n",
       "      <td>Exodus</td>\n",
       "      <td>this land is mine, god gave this land to me  \\...</td>\n",
       "    </tr>\n",
       "    <tr>\n",
       "      <th>4997</th>\n",
       "      <td>Paul McCartney</td>\n",
       "      <td>Back In The Sunshine Again</td>\n",
       "      <td>here we are,  \\r back in the sunshine again  \\...</td>\n",
       "    </tr>\n",
       "    <tr>\n",
       "      <th>4998</th>\n",
       "      <td>Ozzy Osbourne</td>\n",
       "      <td>Pantomime</td>\n",
       "      <td>they feel they've raised her  \\r the new queen...</td>\n",
       "    </tr>\n",
       "    <tr>\n",
       "      <th>4999</th>\n",
       "      <td>John Mellencamp</td>\n",
       "      <td>Peppermint Twist</td>\n",
       "      <td>well they've got a new dance and it goes like ...</td>\n",
       "    </tr>\n",
       "  </tbody>\n",
       "</table>\n",
       "<p>5000 rows × 3 columns</p>\n",
       "</div>"
      ],
      "text/plain": [
       "                 artist                        song  \\\n",
       "0                  Blur                  Uncle Love   \n",
       "1       Robbie Williams               Mr. Bojangles   \n",
       "2     Justin Timberlake                      Breath   \n",
       "3           John Martyn   Can't Turn Back The Years   \n",
       "4     Weird Al Yankovic              Buy Me A Condo   \n",
       "...                 ...                         ...   \n",
       "4995           Boney M.          Little Drummer Boy   \n",
       "4996         Matt Monro                      Exodus   \n",
       "4997     Paul McCartney  Back In The Sunshine Again   \n",
       "4998      Ozzy Osbourne                   Pantomime   \n",
       "4999    John Mellencamp            Peppermint Twist   \n",
       "\n",
       "                                                   text  \n",
       "0     uncle love just got a message from god  \\r tha...  \n",
       "1     i knew a man bojangles  \\r and he'd dance for ...  \n",
       "2     [chorus:] (nelly furtado)  \\r i'm alive i can ...  \n",
       "3       \\r never gonna give it up never gonnna it up...  \n",
       "4     gonna buy me a condo  \\r gonna buy me a cuisin...  \n",
       "...                                                 ...  \n",
       "4995  come, they told me pa-rum pum pum pum  \\r our ...  \n",
       "4996  this land is mine, god gave this land to me  \\...  \n",
       "4997  here we are,  \\r back in the sunshine again  \\...  \n",
       "4998  they feel they've raised her  \\r the new queen...  \n",
       "4999  well they've got a new dance and it goes like ...  \n",
       "\n",
       "[5000 rows x 3 columns]"
      ]
     },
     "execution_count": 38,
     "metadata": {},
     "output_type": "execute_result"
    }
   ],
   "source": [
    "df.head(5000)"
   ]
  },
  {
   "cell_type": "code",
   "execution_count": 39,
   "id": "4057a029",
   "metadata": {},
   "outputs": [
    {
     "data": {
      "text/plain": [
       "4998"
      ]
     },
     "execution_count": 39,
     "metadata": {},
     "output_type": "execute_result"
    }
   ],
   "source": [
    "df[df['song']=='Pantomime'].index[0]"
   ]
  },
  {
   "cell_type": "markdown",
   "id": "bc43d798",
   "metadata": {},
   "source": [
    "# Recommender Function"
   ]
  },
  {
   "cell_type": "code",
   "execution_count": 40,
   "id": "c4284953",
   "metadata": {},
   "outputs": [],
   "source": [
    "def recommender(song_name):\n",
    "    idx=df[df['song']==song_name].index[0]\n",
    "    distance=sorted(list(enumerate(similer[idx])), reverse=True, key=lambda x:x[1])\n",
    "    song=[]\n",
    "    for s_id in distance[1:21]:\n",
    "        song.append(df.iloc[s_id[0]].song)\n",
    "    return song"
   ]
  },
  {
   "cell_type": "code",
   "execution_count": 43,
   "id": "36db2cb0",
   "metadata": {},
   "outputs": [
    {
     "data": {
      "text/plain": [
       "['The Little Drummer Boy',\n",
       " 'Little Drummer Boy',\n",
       " \"'Pag Puso'y Nakialam\",\n",
       " \"Sa'yo\",\n",
       " 'Minamahal Pala Kita',\n",
       " 'Ikaw Lamang',\n",
       " 'Takin My Love',\n",
       " 'Buti Na Lang',\n",
       " 'Exodus',\n",
       " 'I Found Out',\n",
       " \"What'd I Say\",\n",
       " \"Grandma's Feather Bed\",\n",
       " 'Banana Republics',\n",
       " 'Joey In Mind',\n",
       " 'Kisapmata',\n",
       " 'Lucky Man',\n",
       " 'Sunday Afternoon',\n",
       " 'Jiving Sister Fanny',\n",
       " 'Simple Lang',\n",
       " 'Ikaw Ang Aking Mahal']"
      ]
     },
     "execution_count": 43,
     "metadata": {},
     "output_type": "execute_result"
    }
   ],
   "source": [
    "recommender(\"Little Drummer Boy\")"
   ]
  },
  {
   "cell_type": "code",
   "execution_count": 35,
   "id": "cce21d96",
   "metadata": {},
   "outputs": [],
   "source": [
    "import pickle"
   ]
  },
  {
   "cell_type": "code",
   "execution_count": 36,
   "id": "296b5c8f",
   "metadata": {},
   "outputs": [],
   "source": [
    "pickle.dump(similer, open(\"similarity\",\"wb\"))"
   ]
  },
  {
   "cell_type": "code",
   "execution_count": 37,
   "id": "03a02f7f",
   "metadata": {},
   "outputs": [],
   "source": [
    "pickle.dump(df, open(\"df\",\"wb\"))"
   ]
  }
 ],
 "metadata": {
  "kernelspec": {
   "display_name": "Python 3 (ipykernel)",
   "language": "python",
   "name": "python3"
  },
  "language_info": {
   "codemirror_mode": {
    "name": "ipython",
    "version": 3
   },
   "file_extension": ".py",
   "mimetype": "text/x-python",
   "name": "python",
   "nbconvert_exporter": "python",
   "pygments_lexer": "ipython3",
   "version": "3.10.9"
  }
 },
 "nbformat": 4,
 "nbformat_minor": 5
}
